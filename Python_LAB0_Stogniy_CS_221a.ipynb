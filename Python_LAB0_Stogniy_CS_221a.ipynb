{
 "cells": [
  {
   "cell_type": "code",
   "execution_count": 1,
   "id": "f682ab92-ffde-4d87-9093-6ee214f77d09",
   "metadata": {},
   "outputs": [
    {
     "name": "stdout",
     "output_type": "stream",
     "text": [
      "Варіант 4\n"
     ]
    }
   ],
   "source": [
    "print(f\"Варіант {ord('S') % 10 + 1}\")"
   ]
  },
  {
   "cell_type": "markdown",
   "id": "6ec52201-a35e-433d-9300-546630504fe2",
   "metadata": {},
   "source": [
    "# Джибуті\n",
    "\n",
    "### Загальна інформація\n",
    "\n",
    "|   |   |\n",
    "|---|---|\n",
    "|**Площа**| *23200 км<sup>2</sup>* |\n",
    "| **Населення** | <span style=\"color: green;\">793000</span> |\n",
    "| **Державний устрій**|<div style=\"border: 1px solid #000000; padding: 5px;\">унітарна держава, парламентська республіка</div>|\n",
    "\n",
    "Інформацію було взято із [Вікіпедії](https://uk.wikipedia.org/wiki/%D0%94%D0%B6%D0%B8%D0%B1%D1%83%D1%82%D1%96)\n",
    "\n",
    "### Прапор Джибуті\n",
    "<img src=\"data:image/svg+xml,%3Csvg xmlns='http://www.w3.org/2000/svg' width='900'\n",
    "height='600'%3E%3Cpath fill='%236ab2e7' d='M0 0h900v600H0z'/%3E%3Cpath fill='%2312ad2b'\n",
    "d='M0 300h900v300H0z'/%3E%3Cpath d='M0 0v600l259.808-150 259.807-150-259.807-150z' \n",
    "fill='%23fff'/%3E%3Cpath d='M198.86 225l18.616 57.295h60.243l-48.738 35.41L247.598\n",
    "375l-48.738-35.41L150.122 375l18.616-57.295L120 282.295h60.243z' fill='%23d7141a'\n",
    "/%3E%3C/svg%3E\" alt=\"Flag\" />\n",
    "\n",
    "### Відомі люди\n",
    "\n",
    "1. Політики\n",
    "   * Мохамед Алі Мохамед\n",
    "   * Ділейта Мохамед Ділейта\n",
    "   * Рачад Ахмед Салех Фарах\n",
    "   * Омар Фарах\n",
    "   * Баркат Горад Хамадо\n",
    "2. Письменники\n",
    "   * Абдурахман А. Вабері\n",
    "3. Режисери\n",
    "   * Лула Алі Ісмаел\n",
    "4. Композитори\n",
    "   * Абдо Ксамар\n",
    "5. Спортсмени\n",
    "   * Мумін Богора Ала\n",
    "\n",
    "### Пам'ятки природи\n",
    "\n",
    "#### Озеро Ассаль\n",
    "![Опис картинки](https://upload.wikimedia.org/wikipedia/commons/thumb/3/3a/Lake_Assal_1-Djibouti.jpg/1280px-Lake_Assal_1-Djibouti.jpg)\n",
    "\n",
    "#### Національний парк Форе Дю Дей\n",
    "![Опис картинки](https://tsikavi-fakty.com.ua/wp-content/uploads/2020/05/06de338f580e62995dd478dcba102028.jpg)\n",
    "\n",
    "### Регіони країни (вбудоване зображення)\n",
    "![regions](regions.png)"
   ]
  },
  {
   "cell_type": "code",
   "execution_count": 56,
   "id": "3d34f65a-3e12-4456-a06d-fc7098bb4b73",
   "metadata": {},
   "outputs": [
    {
     "data": {
      "text/html": [
       "<!-- Прапор Джибуті з допомогою тегу <svg> -->\n",
       "\n",
       "<svg xmlns=\"http://www.w3.org/2000/svg\" width=\"300\" height=\"200\" version=\"1.1\">\n",
       "  <rect x=\"0\" y=\"0\" width=\"300\" height=\"100\" fill=\"#6ab2e7\" />\n",
       "  <rect x=\"0\" y=\"100\" width=\"300\" height=\"100\" fill=\"#12ad2b\" />\n",
       "  <polygon points=\"0,200 0,0 150,100\" fill=\"white\" />\n",
       "  <polygon points=\"30,130 55,110 80,130 55,60\" fill=\"red\" /> \n",
       "  <polygon points=\"15,85 55,110 95,85\" fill=\"red\"> />\n",
       "</svg>\n"
      ],
      "text/plain": [
       "<IPython.core.display.HTML object>"
      ]
     },
     "metadata": {},
     "output_type": "display_data"
    }
   ],
   "source": [
    "%%HTML\n",
    "<!-- Прапор Джибуті з допомогою тегу <svg> -->\n",
    "\n",
    "<svg xmlns=\"http://www.w3.org/2000/svg\" width=\"300\" height=\"200\" version=\"1.1\">\n",
    "  <rect x=\"0\" y=\"0\" width=\"300\" height=\"100\" fill=\"#6ab2e7\" />\n",
    "  <rect x=\"0\" y=\"100\" width=\"300\" height=\"100\" fill=\"#12ad2b\" />\n",
    "  <polygon points=\"0,200 0,0 150,100\" fill=\"white\" />\n",
    "  <polygon points=\"30,130 55,110 80,130 55,60\" fill=\"red\" /> \n",
    "  <polygon points=\"15,85 55,110 95,85\" fill=\"red\"> />\n",
    "</svg>\n"
   ]
  },
  {
   "cell_type": "markdown",
   "id": "0ac88457-ab4f-4178-bf27-b4a3b07384d8",
   "metadata": {},
   "source": [
    "#### Завдання 2\n",
    "Реалізувати сортування методом бульбашки.\n",
    "Підрахувати скільки разів було виконано переставлення\n",
    "елементів. Список вводиться в рядок через пробіл."
   ]
  },
  {
   "cell_type": "code",
   "execution_count": 2,
   "id": "4351ca2d-674e-4bb1-9200-2a53ede8b11c",
   "metadata": {},
   "outputs": [],
   "source": [
    "def task_4():\n",
    "    user_input = input(\"\")\n",
    "    arr = [] \n",
    "    try:\n",
    "        arr = [float(x) for x in user_input.split()]\n",
    "    except ValueError as e:\n",
    "        print(\"Помилка. У списку присутнє нечислове значення!\")\n",
    "        return None \n",
    "\n",
    "    arr_len = len(arr)\n",
    "    swaps = 0\n",
    "    \n",
    "    for i in range(arr_len):\n",
    "        for j in range(0, arr_len - i - 1):\n",
    "            if arr[j] > arr[j + 1]:\n",
    "                temp = arr[j]\n",
    "                arr[j] = arr[j + 1]\n",
    "                arr[j + 1] = temp\n",
    "                swaps += 1\n",
    "    \n",
    "    print(f\"Було виконано {swaps} переставлень\")"
   ]
  },
  {
   "cell_type": "code",
   "execution_count": 3,
   "id": "348c9ed1-fdb4-4a75-81a9-0b9c51c49e4d",
   "metadata": {},
   "outputs": [
    {
     "name": "stdin",
     "output_type": "stream",
     "text": [
      " 1 10 9 3 str 7\n"
     ]
    },
    {
     "name": "stdout",
     "output_type": "stream",
     "text": [
      "Помилка. У списку присутнє нечислове значення!\n"
     ]
    }
   ],
   "source": [
    "task_4() # 1 10 9 3 str 7"
   ]
  },
  {
   "cell_type": "code",
   "execution_count": 4,
   "id": "967c8be0-e6c5-4165-9090-944700a50cb6",
   "metadata": {},
   "outputs": [
    {
     "name": "stdin",
     "output_type": "stream",
     "text": [
      " 5 6 23 8 12 5\n"
     ]
    },
    {
     "name": "stdout",
     "output_type": "stream",
     "text": [
      "Було виконано 6 переставлень\n"
     ]
    }
   ],
   "source": [
    "task_4() #  5 6 23 8 12 5"
   ]
  },
  {
   "cell_type": "code",
   "execution_count": 5,
   "id": "6c9e9f5e-23f3-4d52-957c-a8db05b0cd72",
   "metadata": {},
   "outputs": [
    {
     "name": "stdin",
     "output_type": "stream",
     "text": [
      " 7 3 1 7 4  2 8 2\n"
     ]
    },
    {
     "name": "stdout",
     "output_type": "stream",
     "text": [
      "Було виконано 14 переставлень\n"
     ]
    }
   ],
   "source": [
    "task_4() #  7 3 1 7 4  2 8 2"
   ]
  }
 ],
 "metadata": {
  "kernelspec": {
   "display_name": "Python 3 (ipykernel)",
   "language": "python",
   "name": "python3"
  },
  "language_info": {
   "codemirror_mode": {
    "name": "ipython",
    "version": 3
   },
   "file_extension": ".py",
   "mimetype": "text/x-python",
   "name": "python",
   "nbconvert_exporter": "python",
   "pygments_lexer": "ipython3",
   "version": "3.11.5"
  }
 },
 "nbformat": 4,
 "nbformat_minor": 5
}
